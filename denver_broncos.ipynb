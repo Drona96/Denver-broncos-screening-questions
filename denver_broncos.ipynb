{
 "cells": [
  {
   "cell_type": "code",
   "execution_count": 15,
   "id": "2d437154",
   "metadata": {},
   "outputs": [
    {
     "data": {
      "text/html": [
       "<div>\n",
       "<style scoped>\n",
       "    .dataframe tbody tr th:only-of-type {\n",
       "        vertical-align: middle;\n",
       "    }\n",
       "\n",
       "    .dataframe tbody tr th {\n",
       "        vertical-align: top;\n",
       "    }\n",
       "\n",
       "    .dataframe thead th {\n",
       "        text-align: right;\n",
       "    }\n",
       "</style>\n",
       "<table border=\"1\" class=\"dataframe\">\n",
       "  <thead>\n",
       "    <tr style=\"text-align: right;\">\n",
       "      <th></th>\n",
       "      <th>PetID</th>\n",
       "      <th>Date</th>\n",
       "      <th>ProcedureType</th>\n",
       "      <th>ProcedureSubCode</th>\n",
       "    </tr>\n",
       "  </thead>\n",
       "  <tbody>\n",
       "    <tr>\n",
       "      <th>0</th>\n",
       "      <td>T0-3277</td>\n",
       "      <td>42391</td>\n",
       "      <td>VACCINATIONS</td>\n",
       "      <td>5</td>\n",
       "    </tr>\n",
       "    <tr>\n",
       "      <th>1</th>\n",
       "      <td>G6-6501</td>\n",
       "      <td>42398</td>\n",
       "      <td>VACCINATIONS</td>\n",
       "      <td>5</td>\n",
       "    </tr>\n",
       "    <tr>\n",
       "      <th>2</th>\n",
       "      <td>P9-3625</td>\n",
       "      <td>42399</td>\n",
       "      <td>ORTHOPEDIC</td>\n",
       "      <td>7</td>\n",
       "    </tr>\n",
       "    <tr>\n",
       "      <th>3</th>\n",
       "      <td>F1-1855</td>\n",
       "      <td>42402</td>\n",
       "      <td>VACCINATIONS</td>\n",
       "      <td>5</td>\n",
       "    </tr>\n",
       "    <tr>\n",
       "      <th>4</th>\n",
       "      <td>S1-2243</td>\n",
       "      <td>42404</td>\n",
       "      <td>VACCINATIONS</td>\n",
       "      <td>5</td>\n",
       "    </tr>\n",
       "  </tbody>\n",
       "</table>\n",
       "</div>"
      ],
      "text/plain": [
       "     PetID   Date ProcedureType  ProcedureSubCode\n",
       "0  T0-3277  42391  VACCINATIONS                 5\n",
       "1  G6-6501  42398  VACCINATIONS                 5\n",
       "2  P9-3625  42399    ORTHOPEDIC                 7\n",
       "3  F1-1855  42402  VACCINATIONS                 5\n",
       "4  S1-2243  42404  VACCINATIONS                 5"
      ]
     },
     "execution_count": 15,
     "metadata": {},
     "output_type": "execute_result"
    }
   ],
   "source": [
    "import pandas as pd\n",
    "procedures = 'D:/New folder/procedures.csv'\n",
    "\n",
    "# Read the CSV file as a DataFrame\n",
    "procedure_df = pd.read_csv(procedures)\n",
    "procedure_df.head()"
   ]
  },
  {
   "cell_type": "code",
   "execution_count": 16,
   "id": "38f4b3b1",
   "metadata": {},
   "outputs": [
    {
     "data": {
      "text/html": [
       "<div>\n",
       "<style scoped>\n",
       "    .dataframe tbody tr th:only-of-type {\n",
       "        vertical-align: middle;\n",
       "    }\n",
       "\n",
       "    .dataframe tbody tr th {\n",
       "        vertical-align: top;\n",
       "    }\n",
       "\n",
       "    .dataframe thead th {\n",
       "        text-align: right;\n",
       "    }\n",
       "</style>\n",
       "<table border=\"1\" class=\"dataframe\">\n",
       "  <thead>\n",
       "    <tr style=\"text-align: right;\">\n",
       "      <th></th>\n",
       "      <th>ProcedureType</th>\n",
       "      <th>ProcedureSubCode</th>\n",
       "      <th>Description</th>\n",
       "      <th>Price</th>\n",
       "    </tr>\n",
       "  </thead>\n",
       "  <tbody>\n",
       "    <tr>\n",
       "      <th>0</th>\n",
       "      <td>OFFICE FEES</td>\n",
       "      <td>1</td>\n",
       "      <td>Office Call</td>\n",
       "      <td>32</td>\n",
       "    </tr>\n",
       "    <tr>\n",
       "      <th>1</th>\n",
       "      <td>OFFICE FEES</td>\n",
       "      <td>2</td>\n",
       "      <td>Emergency</td>\n",
       "      <td>100</td>\n",
       "    </tr>\n",
       "    <tr>\n",
       "      <th>2</th>\n",
       "      <td>OFFICE FEES</td>\n",
       "      <td>3</td>\n",
       "      <td>Reck</td>\n",
       "      <td>24</td>\n",
       "    </tr>\n",
       "    <tr>\n",
       "      <th>3</th>\n",
       "      <td>GROOMING</td>\n",
       "      <td>1</td>\n",
       "      <td>Bath</td>\n",
       "      <td>15</td>\n",
       "    </tr>\n",
       "    <tr>\n",
       "      <th>4</th>\n",
       "      <td>GROOMING</td>\n",
       "      <td>2</td>\n",
       "      <td>Flea Dip</td>\n",
       "      <td>15</td>\n",
       "    </tr>\n",
       "  </tbody>\n",
       "</table>\n",
       "</div>"
      ],
      "text/plain": [
       "  ProcedureType  ProcedureSubCode  Description  Price\n",
       "0   OFFICE FEES                 1  Office Call     32\n",
       "1   OFFICE FEES                 2    Emergency    100\n",
       "2   OFFICE FEES                 3         Reck     24\n",
       "3      GROOMING                 1         Bath     15\n",
       "4      GROOMING                 2     Flea Dip     15"
      ]
     },
     "execution_count": 16,
     "metadata": {},
     "output_type": "execute_result"
    }
   ],
   "source": [
    "# Replace 'your_file_path.csv' with the path to your CSV file\n",
    "procedure_details = 'D:/New folder/procedure_details.csv'\n",
    "\n",
    "# Read the CSV file as a DataFrame\n",
    "pd_df = pd.read_csv(procedure_details)\n",
    "pd_df.head()"
   ]
  },
  {
   "cell_type": "code",
   "execution_count": 17,
   "id": "f4f148b9",
   "metadata": {},
   "outputs": [
    {
     "data": {
      "text/html": [
       "<div>\n",
       "<style scoped>\n",
       "    .dataframe tbody tr th:only-of-type {\n",
       "        vertical-align: middle;\n",
       "    }\n",
       "\n",
       "    .dataframe tbody tr th {\n",
       "        vertical-align: top;\n",
       "    }\n",
       "\n",
       "    .dataframe thead th {\n",
       "        text-align: right;\n",
       "    }\n",
       "</style>\n",
       "<table border=\"1\" class=\"dataframe\">\n",
       "  <thead>\n",
       "    <tr style=\"text-align: right;\">\n",
       "      <th></th>\n",
       "      <th>PetID</th>\n",
       "      <th>Name</th>\n",
       "      <th>Kind</th>\n",
       "      <th>Gender</th>\n",
       "      <th>Age</th>\n",
       "      <th>OwnerID</th>\n",
       "    </tr>\n",
       "  </thead>\n",
       "  <tbody>\n",
       "    <tr>\n",
       "      <th>0</th>\n",
       "      <td>J6-8562</td>\n",
       "      <td>Brandy</td>\n",
       "      <td>Dog</td>\n",
       "      <td>male</td>\n",
       "      <td>11</td>\n",
       "      <td>5168</td>\n",
       "    </tr>\n",
       "    <tr>\n",
       "      <th>1</th>\n",
       "      <td>Q0-2001</td>\n",
       "      <td>Roomba</td>\n",
       "      <td>Cat</td>\n",
       "      <td>male</td>\n",
       "      <td>9</td>\n",
       "      <td>5508</td>\n",
       "    </tr>\n",
       "    <tr>\n",
       "      <th>2</th>\n",
       "      <td>M0-2904</td>\n",
       "      <td>Simba</td>\n",
       "      <td>Cat</td>\n",
       "      <td>male</td>\n",
       "      <td>1</td>\n",
       "      <td>3086</td>\n",
       "    </tr>\n",
       "    <tr>\n",
       "      <th>3</th>\n",
       "      <td>R3-7551</td>\n",
       "      <td>Keller</td>\n",
       "      <td>Parrot</td>\n",
       "      <td>female</td>\n",
       "      <td>2</td>\n",
       "      <td>7908</td>\n",
       "    </tr>\n",
       "    <tr>\n",
       "      <th>4</th>\n",
       "      <td>P2-7342</td>\n",
       "      <td>Cuddles</td>\n",
       "      <td>Dog</td>\n",
       "      <td>male</td>\n",
       "      <td>13</td>\n",
       "      <td>4378</td>\n",
       "    </tr>\n",
       "  </tbody>\n",
       "</table>\n",
       "</div>"
      ],
      "text/plain": [
       "     PetID     Name    Kind  Gender  Age  OwnerID\n",
       "0  J6-8562   Brandy     Dog    male   11     5168\n",
       "1  Q0-2001   Roomba     Cat    male    9     5508\n",
       "2  M0-2904    Simba     Cat    male    1     3086\n",
       "3  R3-7551   Keller  Parrot  female    2     7908\n",
       "4  P2-7342  Cuddles     Dog    male   13     4378"
      ]
     },
     "execution_count": 17,
     "metadata": {},
     "output_type": "execute_result"
    }
   ],
   "source": [
    "# Replace 'your_file_path.csv' with the path to your CSV file\n",
    "pets = 'D:/New folder/pets.csv'\n",
    "\n",
    "# Read the CSV file as a DataFrame\n",
    "pets_df = pd.read_csv(pets)\n",
    "pets_df.head()"
   ]
  },
  {
   "cell_type": "code",
   "execution_count": 18,
   "id": "6a2fd6a9",
   "metadata": {},
   "outputs": [
    {
     "data": {
      "text/html": [
       "<div>\n",
       "<style scoped>\n",
       "    .dataframe tbody tr th:only-of-type {\n",
       "        vertical-align: middle;\n",
       "    }\n",
       "\n",
       "    .dataframe tbody tr th {\n",
       "        vertical-align: top;\n",
       "    }\n",
       "\n",
       "    .dataframe thead th {\n",
       "        text-align: right;\n",
       "    }\n",
       "</style>\n",
       "<table border=\"1\" class=\"dataframe\">\n",
       "  <thead>\n",
       "    <tr style=\"text-align: right;\">\n",
       "      <th></th>\n",
       "      <th>OwnerID</th>\n",
       "      <th>Name</th>\n",
       "      <th>Surname</th>\n",
       "      <th>StreetAddress</th>\n",
       "      <th>City</th>\n",
       "      <th>State</th>\n",
       "      <th>StateFull</th>\n",
       "      <th>ZipCode</th>\n",
       "    </tr>\n",
       "  </thead>\n",
       "  <tbody>\n",
       "    <tr>\n",
       "      <th>0</th>\n",
       "      <td>6049</td>\n",
       "      <td>Debbie</td>\n",
       "      <td>Metivier</td>\n",
       "      <td>315 Goff Avenue</td>\n",
       "      <td>Grand Rapids</td>\n",
       "      <td>MI</td>\n",
       "      <td>Michigan</td>\n",
       "      <td>49503</td>\n",
       "    </tr>\n",
       "    <tr>\n",
       "      <th>1</th>\n",
       "      <td>2863</td>\n",
       "      <td>John</td>\n",
       "      <td>Sebastian</td>\n",
       "      <td>3221 Perry Street</td>\n",
       "      <td>Davison</td>\n",
       "      <td>MI</td>\n",
       "      <td>Michigan</td>\n",
       "      <td>48423</td>\n",
       "    </tr>\n",
       "    <tr>\n",
       "      <th>2</th>\n",
       "      <td>3518</td>\n",
       "      <td>Connie</td>\n",
       "      <td>Pauley</td>\n",
       "      <td>1539 Cunningham Court</td>\n",
       "      <td>Bloomfield Township</td>\n",
       "      <td>MI</td>\n",
       "      <td>Michigan</td>\n",
       "      <td>48302</td>\n",
       "    </tr>\n",
       "    <tr>\n",
       "      <th>3</th>\n",
       "      <td>3663</td>\n",
       "      <td>Lena</td>\n",
       "      <td>Haliburton</td>\n",
       "      <td>4217 Twin Oaks Drive</td>\n",
       "      <td>Traverse City</td>\n",
       "      <td>MI</td>\n",
       "      <td>Michigan</td>\n",
       "      <td>49684</td>\n",
       "    </tr>\n",
       "    <tr>\n",
       "      <th>4</th>\n",
       "      <td>1070</td>\n",
       "      <td>Jessica</td>\n",
       "      <td>Velazquez</td>\n",
       "      <td>3861 Woodbridge Lane</td>\n",
       "      <td>Southfield</td>\n",
       "      <td>MI</td>\n",
       "      <td>Michigan</td>\n",
       "      <td>48034</td>\n",
       "    </tr>\n",
       "  </tbody>\n",
       "</table>\n",
       "</div>"
      ],
      "text/plain": [
       "   OwnerID     Name     Surname          StreetAddress                 City  \\\n",
       "0     6049   Debbie    Metivier        315 Goff Avenue         Grand Rapids   \n",
       "1     2863     John   Sebastian      3221 Perry Street              Davison   \n",
       "2     3518   Connie      Pauley  1539 Cunningham Court  Bloomfield Township   \n",
       "3     3663     Lena  Haliburton   4217 Twin Oaks Drive        Traverse City   \n",
       "4     1070  Jessica   Velazquez   3861 Woodbridge Lane           Southfield   \n",
       "\n",
       "  State StateFull  ZipCode  \n",
       "0    MI  Michigan    49503  \n",
       "1    MI  Michigan    48423  \n",
       "2    MI  Michigan    48302  \n",
       "3    MI  Michigan    49684  \n",
       "4    MI  Michigan    48034  "
      ]
     },
     "execution_count": 18,
     "metadata": {},
     "output_type": "execute_result"
    }
   ],
   "source": [
    "\n",
    "# Replace 'your_file_path.csv' with the path to your CSV file\n",
    "owners = 'D:/New folder/owners.csv'\n",
    "\n",
    "# Read the CSV file as a DataFrame\n",
    "owners_df = pd.read_csv(owners)\n",
    "owners_df.head()"
   ]
  },
  {
   "cell_type": "code",
   "execution_count": 19,
   "id": "d495b652",
   "metadata": {},
   "outputs": [
    {
     "name": "stdout",
     "output_type": "stream",
     "text": [
      "PetID      N8-0553\n",
      "Name         Tiger\n",
      "Kind           Dog\n",
      "Gender        male\n",
      "Age             15\n",
      "OwnerID       7393\n",
      "Name: 42, dtype: object\n"
     ]
    }
   ],
   "source": [
    "#What is the name of the oldest dog in Southfield?\n",
    "#Filter the kind column initially\n",
    "pets_dogs = pets_df[pets_df['Kind'] =='Dog']\n",
    "#sort the result by age column descending\n",
    "pets_sorted = pets_dogs.sort_values(by='Age', ascending=False)\n",
    "# print the first row after sorting\n",
    "oldest_dog = pets_sorted.iloc[0]\n",
    "print(oldest_dog)\n"
   ]
  },
  {
   "cell_type": "code",
   "execution_count": 20,
   "id": "ff6049b7",
   "metadata": {},
   "outputs": [
    {
     "data": {
      "text/plain": [
       "2.5"
      ]
     },
     "execution_count": 20,
     "metadata": {},
     "output_type": "execute_result"
    }
   ],
   "source": [
    "#What is the average (mean) number of pets per city?\n",
    "#initially merge the owners and pets dataframes using ownerid column\n",
    "merged_df = pd.merge(owners_df, pets_df, on='OwnerID')\n",
    "#Group by city column and find the mean\n",
    "avg_pets_per_city = merged_df.groupby('City')['PetID'].count().mean()\n",
    "avg_pets_per_city"
   ]
  },
  {
   "cell_type": "code",
   "execution_count": 21,
   "id": "21cd2786",
   "metadata": {},
   "outputs": [
    {
     "name": "stdout",
     "output_type": "stream",
     "text": [
      "Number of owners who spent 20 dollars or more on procedures for their pets: 12\n"
     ]
    }
   ],
   "source": [
    "#How many owners spent 20 dollars or more on procedures for their pets? \n",
    "\n",
    "\n",
    "# Merge procedure_df and procedure_detail_df on 'ProcedureType' and 'ProcedureSubCode' to get the expenses for each procedure\n",
    "merged_df = procedure_df.merge(pd_df, on=['ProcedureType', 'ProcedureSubCode'], how='left')\n",
    "\n",
    "# Calculate the total expenses for each pet by grouping by 'PetID' and summing the 'Price' column\n",
    "pet_expenses_df = merged_df.groupby('PetID')['Price'].sum().reset_index()\n",
    "\n",
    "# Merge pets_df and pet_expenses_df on 'PetID' to get the owners' expenses for each pet\n",
    "owner_expenses_df = pets_df.merge(pet_expenses_df, on='PetID', how='left')\n",
    "\n",
    "# Calculate the total expenses for each owner by grouping by 'OwnerID' and summing the 'Price' column\n",
    "owner_total_expenses = owner_expenses_df.groupby('OwnerID')['Price'].sum().reset_index()\n",
    "\n",
    "# Filter the owners who spent 20 dollars or more\n",
    "owners_spent_20_or_more = owner_total_expenses[owner_total_expenses['Price'] >= 20]\n",
    "\n",
    "# Count the number of owners who spent 20 dollars or more\n",
    "num_owners_spent_20_or_more = len(owners_spent_20_or_more)\n",
    "\n",
    "print(\"Number of owners who spent 20 dollars or more on procedures for their pets:\", num_owners_spent_20_or_more)\n"
   ]
  },
  {
   "cell_type": "code",
   "execution_count": 22,
   "id": "f3a0a97a",
   "metadata": {},
   "outputs": [
    {
     "name": "stdout",
     "output_type": "stream",
     "text": [
      "Owner who spent the most on procedures for their pet(s):\n",
      "    OwnerID    Name Surname        StreetAddress          City State  \\\n",
      "70     8316  Daniel     Fay  894 Twin Oaks Drive  Grand Rapids    MI   \n",
      "\n",
      "   StateFull  ZipCode  \n",
      "70  Michigan    49503  \n"
     ]
    }
   ],
   "source": [
    "\n",
    "# Find the owner who spent the most on procedures for their pet(s)\n",
    "max_expenses_owner = owner_total_expenses.loc[owner_total_expenses['Price'].idxmax()]\n",
    "\n",
    "# Find the owner details based on the OwnerID from owner_details_df\n",
    "max_expenses_owner_details = owners_df.loc[owners_df['OwnerID'] == max_expenses_owner['OwnerID']]\n",
    "\n",
    "print(\"Owner who spent the most on procedures for their pet(s):\")\n",
    "print(max_expenses_owner_details)\n"
   ]
  },
  {
   "cell_type": "code",
   "execution_count": 23,
   "id": "081af35b",
   "metadata": {},
   "outputs": [
    {
     "name": "stdout",
     "output_type": "stream",
     "text": [
      "Number of owners with at least two different kinds of pets: 4\n"
     ]
    }
   ],
   "source": [
    "\n",
    "#How many owners have at least two different kinds of pets (e.g. a dog and a cat)?\n",
    "# Merge pets_df and owner_details_df on 'OwnerID' to get the owner details for each pet\n",
    "owner_pets_df = pets_df.merge(owners_df, on='OwnerID', how='left')\n",
    "\n",
    "# Group the data by 'OwnerID' and count the number of unique 'Kind' values for each owner\n",
    "owners_pet_counts = owner_pets_df.groupby('OwnerID')['Kind'].nunique().reset_index()\n",
    "\n",
    "# Filter the owners who have at least two different kinds of pets\n",
    "owners_with_multiple_kinds = owners_pet_counts[owners_pet_counts['Kind'] >= 2]\n",
    "\n",
    "# Get the count of owners who have at least two different kinds of pets\n",
    "num_owners_with_multiple_kinds = len(owners_with_multiple_kinds)\n",
    "\n",
    "print(\"Number of owners with at least two different kinds of pets:\", num_owners_with_multiple_kinds)\n"
   ]
  },
  {
   "cell_type": "code",
   "execution_count": 24,
   "id": "625584f1",
   "metadata": {},
   "outputs": [
    {
     "name": "stdout",
     "output_type": "stream",
     "text": [
      "Number of owners with pets where the first letter of their name matches the first letter of their pet's name: 8\n"
     ]
    }
   ],
   "source": [
    "#How many owners have pets where the first letter of their name (OwnerName) matches the first letter of their pet's name (PetName)? E.g. Cookie and Charles.\n",
    "import pandas as pd\n",
    "\n",
    "# Assuming you have the pets_df and owner_details_df DataFrames\n",
    "\n",
    "# Merge pets_df and owner_details_df on 'OwnerID' to get the owner details for each pet\n",
    "owner_pets_df = pets_df.merge(owners_df, on='OwnerID', how='left')\n",
    "\n",
    "# Filter the rows where the first letter of OwnerName matches the first letter of PetName\n",
    "matching_first_letter_df = owner_pets_df[owner_pets_df['Name_y'].str[0].str.lower() == owner_pets_df['Name_x'].str[0].str.lower()]\n",
    "\n",
    "# Count the number of unique OwnerID values for the filtered rows\n",
    "num_owners_with_matching_first_letter = len(matching_first_letter_df['OwnerID'].unique())\n",
    "\n",
    "print(\"Number of owners with pets where the first letter of their name matches the first letter of their pet's name:\", num_owners_with_matching_first_letter)\n"
   ]
  },
  {
   "cell_type": "code",
   "execution_count": 25,
   "id": "f63f1fb6",
   "metadata": {},
   "outputs": [
    {
     "name": "stdout",
     "output_type": "stream",
     "text": [
      "Percentage of pets that received a vaccination: 28.999999999999996 %\n"
     ]
    }
   ],
   "source": [
    "#What percentage of pets received a vaccination?\n",
    "# Merge procedure_df and pets_df on 'PetID' to get the procedure details for each pet\n",
    "merged_df = pets_df.merge(procedure_df, on='PetID', how='left')\n",
    "\n",
    "# Filter the rows where the 'ProcedureType' is 'VACCINATIONS'\n",
    "vaccinated_pets_df = merged_df[merged_df['ProcedureType'] == 'VACCINATIONS']\n",
    "\n",
    "# Count the number of vaccinated pets\n",
    "num_vaccinated_pets = len(vaccinated_pets_df)\n",
    "\n",
    "# Get the total number of pets\n",
    "total_num_pets = len(pets_df)\n",
    "\n",
    "# Calculate the percentage of pets that received a vaccination\n",
    "percentage_vaccinated = (num_vaccinated_pets / total_num_pets) * 100\n",
    "\n",
    "print(\"Percentage of pets that received a vaccination:\", percentage_vaccinated, \"%\")\n",
    "\n"
   ]
  },
  {
   "cell_type": "code",
   "execution_count": 26,
   "id": "19558332",
   "metadata": {},
   "outputs": [
    {
     "name": "stdout",
     "output_type": "stream",
     "text": [
      "Percentage of cities with more male pets than female pets: 57.49999999999999 %\n"
     ]
    }
   ],
   "source": [
    "#What percentage of cities have more male pets than female pets?\n",
    "# Merge pets_df and owner_details_df on 'OwnerID' to get the owner details for each pet\n",
    "owner_pets_df = pets_df.merge(owners_df, on='OwnerID', how='left')\n",
    "\n",
    "# Group the data by 'City' and count the number of male and female pets in each city\n",
    "pet_counts_by_city = owner_pets_df.groupby('City')['Gender'].value_counts().unstack().fillna(0)\n",
    "\n",
    "# Calculate the percentage of cities where the number of male pets is greater than the number of female pets\n",
    "num_cities_more_male_pets = len(pet_counts_by_city[pet_counts_by_city['male'] > pet_counts_by_city['female']])\n",
    "total_num_cities = len(pet_counts_by_city)\n",
    "percentage_more_male_pets = (num_cities_more_male_pets / total_num_cities) * 100\n",
    "\n",
    "print(\"Percentage of cities with more male pets than female pets:\", percentage_more_male_pets, \"%\")\n"
   ]
  },
  {
   "cell_type": "code",
   "execution_count": 27,
   "id": "19a47eb5",
   "metadata": {},
   "outputs": [
    {
     "name": "stdout",
     "output_type": "stream",
     "text": [
      "City with exactly 70% dogs in the pet sample: Grand Rapids\n"
     ]
    }
   ],
   "source": [
    "#Which city's pet sample is made up of exactly 70% dogs? The answer is case sensitive, so please match the value for City exactly.\n",
    "\n",
    "# Merge pets_df and owner_details_df on 'OwnerID' to get the owner details for each pet\n",
    "owner_pets_df = pets_df.merge(owners_df, on='OwnerID', how='left')\n",
    "\n",
    "# Group the data by 'City' and 'Kind' to count the number of each kind of pet in each city\n",
    "pet_counts_by_city_kind = owner_pets_df.groupby(['City', 'Kind']).size().unstack(fill_value=0)\n",
    "\n",
    "# Calculate the percentage of dogs in each city\n",
    "pet_counts_by_city_kind['Percentage_Dogs'] = (pet_counts_by_city_kind['Dog'] / pet_counts_by_city_kind.sum(axis=1)) * 100\n",
    "\n",
    "# Find the city where the percentage of dogs is exactly 70%\n",
    "city_with_70_percent_dogs = pet_counts_by_city_kind[pet_counts_by_city_kind['Percentage_Dogs'] == 70].index[0]\n",
    "\n",
    "print(\"City with exactly 70% dogs in the pet sample:\", city_with_70_percent_dogs)\n"
   ]
  }
 ],
 "metadata": {
  "kernelspec": {
   "display_name": "Python 3 (ipykernel)",
   "language": "python",
   "name": "python3"
  },
  "language_info": {
   "codemirror_mode": {
    "name": "ipython",
    "version": 3
   },
   "file_extension": ".py",
   "mimetype": "text/x-python",
   "name": "python",
   "nbconvert_exporter": "python",
   "pygments_lexer": "ipython3",
   "version": "3.9.12"
  }
 },
 "nbformat": 4,
 "nbformat_minor": 5
}
